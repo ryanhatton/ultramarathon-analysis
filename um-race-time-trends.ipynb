{
 "cells": [
  {
   "cell_type": "markdown",
   "metadata": {},
   "source": [
    "# Race Trend Analysis\n",
    "The goal of this notebook is to analyze trends within the entire data range and see what insights can be glean from the trends. "
   ]
  },
  {
   "cell_type": "code",
   "execution_count": 101,
   "metadata": {},
   "outputs": [],
   "source": [
    "import pandas as pd\n",
    "import seaborn as sns\n",
    "import matplotlib.pyplot as plt"
   ]
  },
  {
   "cell_type": "code",
   "execution_count": 102,
   "metadata": {},
   "outputs": [
    {
     "name": "stderr",
     "output_type": "stream",
     "text": [
      "/var/folders/r6/hkw27m2d5416xj4s3mzmxqym0000gn/T/ipykernel_90524/798432201.py:1: DtypeWarning: Columns (11) have mixed types. Specify dtype option on import or set low_memory=False.\n",
      "  df = pd.read_csv(\"datasets/UM _RACEDATA_RAW.csv\")\n"
     ]
    }
   ],
   "source": [
    "df = pd.read_csv(\"datasets/UM _RACEDATA_RAW.csv\") "
   ]
  },
  {
   "cell_type": "markdown",
   "metadata": {},
   "source": [
    "Calculating ```athlete_age```"
   ]
  },
  {
   "cell_type": "code",
   "execution_count": 103,
   "metadata": {},
   "outputs": [],
   "source": [
    "df['athlete_age'] = 2022 - df['Athlete year of birth']"
   ]
  },
  {
   "cell_type": "markdown",
   "metadata": {},
   "source": [
    "Only ```USA``` runners"
   ]
  },
  {
   "cell_type": "code",
   "execution_count": 104,
   "metadata": {},
   "outputs": [],
   "source": [
    "df = df[df['Athlete country'].isin(['USA'])]"
   ]
  },
  {
   "cell_type": "markdown",
   "metadata": {},
   "source": [
    "Removing \n",
    "* ```Athlete club```\n",
    "* ```Athlete country```\n",
    "* ```Athlete year of birth```\n",
    "* ```Athlete age category```\n",
    "* ```Event number of finishers```"
   ]
  },
  {
   "cell_type": "code",
   "execution_count": 105,
   "metadata": {},
   "outputs": [],
   "source": [
    "df = df.drop(['Athlete club', 'Athlete country', 'Athlete year of birth', 'Athlete age category', 'Event number of finishers'], axis = 1)"
   ]
  },
  {
   "cell_type": "markdown",
   "metadata": {},
   "source": [
    "Rename column headers"
   ]
  },
  {
   "cell_type": "code",
   "execution_count": 106,
   "metadata": {},
   "outputs": [],
   "source": [
    "df = df.rename(columns = { 'Year of event' : 'year',\n",
    "                           'Event dates' : 'race_day',\n",
    "                           'Event name' : 'race_name',\n",
    "                           'Event distance/length' : 'race_length',\n",
    "                           'Athlete performance' : 'athlete_performance',\n",
    "                           'Athlete gender' : 'athlete_gender',\n",
    "                           'Athlete average speed' : 'athlete_average_speed',\n",
    "                           'Athlete ID' : 'athlete_id'\n",
    "})"
   ]
  },
  {
   "cell_type": "markdown",
   "metadata": {},
   "source": [
    "Removing ```null``` values"
   ]
  },
  {
   "cell_type": "code",
   "execution_count": 107,
   "metadata": {},
   "outputs": [],
   "source": [
    "df = df.dropna()"
   ]
  },
  {
   "cell_type": "markdown",
   "metadata": {},
   "source": [
    "Drop ```duplicate``` rows"
   ]
  },
  {
   "cell_type": "code",
   "execution_count": 108,
   "metadata": {},
   "outputs": [],
   "source": [
    "df = df.drop_duplicates()"
   ]
  },
  {
   "cell_type": "markdown",
   "metadata": {},
   "source": [
    "fix types\n",
    "* ```athlete_age``` to ```int```\n",
    "* ```athlete_average_speed``` to ```float```"
   ]
  },
  {
   "cell_type": "code",
   "execution_count": 109,
   "metadata": {},
   "outputs": [],
   "source": [
    "df['athlete_age'] = df['athlete_age'].astype(int)"
   ]
  },
  {
   "cell_type": "markdown",
   "metadata": {},
   "source": [
    "Convert the ```'athlete_average_speed'``` column to numeric, coercing errors to ```NaN```"
   ]
  },
  {
   "cell_type": "code",
   "execution_count": 110,
   "metadata": {},
   "outputs": [],
   "source": [
    "df['athlete_average_speed'] = pd.to_numeric(df['athlete_average_speed'], errors='coerce')"
   ]
  },
  {
   "cell_type": "code",
   "execution_count": 111,
   "metadata": {},
   "outputs": [],
   "source": [
    "df = df.dropna()"
   ]
  },
  {
   "cell_type": "code",
   "execution_count": 112,
   "metadata": {},
   "outputs": [],
   "source": [
    "df['athlete_average_speed'] = df['athlete_average_speed'].astype(float)"
   ]
  },
  {
   "cell_type": "markdown",
   "metadata": {},
   "source": [
    "Determine how many different race lengths there are and then filter by the 4 most popular ultramarathon race distances"
   ]
  },
  {
   "cell_type": "code",
   "execution_count": 113,
   "metadata": {},
   "outputs": [
    {
     "name": "stdout",
     "output_type": "stream",
     "text": [
      "race_length\n",
      "50km             620836\n",
      "50mi             278362\n",
      "100mi            117543\n",
      "100km             57324\n",
      "24h               46990\n",
      "                  ...  \n",
      "1006km                1\n",
      "875km                 1\n",
      "1016km                1\n",
      "80km/3Etappen         1\n",
      "72.5km                1\n",
      "Name: count, Length: 971, dtype: int64\n"
     ]
    }
   ],
   "source": [
    "print(df['race_length'].value_counts(dropna=False))"
   ]
  },
  {
   "cell_type": "markdown",
   "metadata": {},
   "source": [
    "### NOTE: Break off and look at 24 hour races"
   ]
  },
  {
   "cell_type": "markdown",
   "metadata": {},
   "source": [
    "Focus only on the most popular races: \n",
    "* ```50km```\n",
    "* ```50mi```\n",
    "* ```100km```\n",
    "* ```100mi```\n"
   ]
  },
  {
   "cell_type": "code",
   "execution_count": 114,
   "metadata": {},
   "outputs": [],
   "source": [
    "df = df[df['race_length'].isin(['50km', '50mi', '100mi', '100km'])]"
   ]
  },
  {
   "cell_type": "markdown",
   "metadata": {},
   "source": [
    "Convert ```'race_length'``` into a ```category``` type"
   ]
  },
  {
   "cell_type": "code",
   "execution_count": 115,
   "metadata": {},
   "outputs": [],
   "source": [
    "df['race_length'] = df['race_length'].astype('category')"
   ]
  },
  {
   "cell_type": "markdown",
   "metadata": {},
   "source": [
    "Filter for ```Male``` & ```Female``` athletes"
   ]
  },
  {
   "cell_type": "code",
   "execution_count": 116,
   "metadata": {},
   "outputs": [],
   "source": [
    "df = df[df['athlete_gender'].isin(['M', 'F'])]"
   ]
  },
  {
   "cell_type": "markdown",
   "metadata": {},
   "source": [
    "Convert ```'athlete_gender'``` into a ```category``` type"
   ]
  },
  {
   "cell_type": "code",
   "execution_count": 117,
   "metadata": {},
   "outputs": [],
   "source": [
    "df['athlete_gender'] = df['athlete_gender'].astype('category')"
   ]
  },
  {
   "cell_type": "markdown",
   "metadata": {},
   "source": [
    "Remove ```'h'``` from the ```athlete_performace``` values"
   ]
  },
  {
   "cell_type": "code",
   "execution_count": 118,
   "metadata": {},
   "outputs": [],
   "source": [
    "df['athlete_performance'] = df['athlete_performance'].str.split(' ').str.get(0)"
   ]
  },
  {
   "cell_type": "markdown",
   "metadata": {},
   "source": [
    "Filter down to only ```USA``` races"
   ]
  },
  {
   "cell_type": "code",
   "execution_count": 119,
   "metadata": {},
   "outputs": [],
   "source": [
    "df = df[df['race_name'].str.split('(').str.get(1).str.split(')').str.get(0) == 'USA']"
   ]
  },
  {
   "cell_type": "markdown",
   "metadata": {},
   "source": [
    "Remove ```(USA)``` from ```race_name```"
   ]
  },
  {
   "cell_type": "code",
   "execution_count": 120,
   "metadata": {},
   "outputs": [],
   "source": [
    "df['race_name'] = df['race_name'].str.replace(r'\\(USA\\)', '', regex=True).str.strip()"
   ]
  },
  {
   "cell_type": "markdown",
   "metadata": {},
   "source": [
    "Convert ```race_day``` to ```type: datetime```"
   ]
  },
  {
   "cell_type": "code",
   "execution_count": 121,
   "metadata": {},
   "outputs": [],
   "source": [
    "# Function to standardize and validate dates\n",
    "def standardize_date(date_str):\n",
    "    # Handle date ranges by taking the first part\n",
    "    if '-' in date_str:\n",
    "        date_str = date_str.split('-')[0].strip()\n",
    "    \n",
    "    # Check if the date_str is too short to be valid\n",
    "    if len(date_str) < 8:  # Shorter than \"DD.MM.YYYY\"\n",
    "        return None  # Mark as invalid\n",
    "    \n",
    "    # Split date to check individual components\n",
    "    parts = date_str.split('.')\n",
    "    \n",
    "    # Check for zero day or month\n",
    "    if parts[0] == '00' or parts[1] == '00':\n",
    "        return None  # Mark as invalid\n",
    "    \n",
    "    # Remove any trailing dots and ensure format is consistent\n",
    "    return date_str.rstrip('.')\n",
    "\n",
    "# Apply the standardization function\n",
    "df['race_day'] = df['race_day'].apply(standardize_date)\n",
    "\n",
    "# Remove rows with invalid dates\n",
    "df = df.dropna(subset=['race_day'])\n",
    "\n",
    "# Convert 'race_day' to datetime format, specifying day first\n",
    "df['race_day'] = pd.to_datetime(df['race_day'], format='%d.%m.%Y', dayfirst=True)"
   ]
  },
  {
   "cell_type": "markdown",
   "metadata": {},
   "source": [
    "Convert ```athlete_performace``` to ```type: timedelta[ns]```"
   ]
  },
  {
   "cell_type": "code",
   "execution_count": 122,
   "metadata": {},
   "outputs": [],
   "source": [
    "df['athlete_performance'] = pd.to_timedelta(df['athlete_performance'])"
   ]
  },
  {
   "cell_type": "markdown",
   "metadata": {},
   "source": [
    "Convert ```race_name``` to ```type: category```"
   ]
  },
  {
   "cell_type": "code",
   "execution_count": 123,
   "metadata": {},
   "outputs": [],
   "source": [
    "df['race_name'] = df['race_name'].astype('category')"
   ]
  },
  {
   "cell_type": "code",
   "execution_count": 127,
   "metadata": {},
   "outputs": [
    {
     "data": {
      "text/plain": [
       "race_length\n",
       "50km     598105\n",
       "50mi     247396\n",
       "100km     36933\n",
       "100mi      1023\n",
       "Name: count, dtype: int64"
      ]
     },
     "execution_count": 127,
     "metadata": {},
     "output_type": "execute_result"
    }
   ],
   "source": [
    "df['race_length'].value_counts()"
   ]
  }
 ],
 "metadata": {
  "kernelspec": {
   "display_name": "Python 3",
   "language": "python",
   "name": "python3"
  },
  "language_info": {
   "codemirror_mode": {
    "name": "ipython",
    "version": 3
   },
   "file_extension": ".py",
   "mimetype": "text/x-python",
   "name": "python",
   "nbconvert_exporter": "python",
   "pygments_lexer": "ipython3",
   "version": "3.11.9"
  }
 },
 "nbformat": 4,
 "nbformat_minor": 2
}
