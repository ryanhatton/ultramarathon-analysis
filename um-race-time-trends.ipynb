{
 "cells": [
  {
   "cell_type": "markdown",
   "metadata": {},
   "source": [
    "# Race Trend Analysis\n",
    "The goal of this notebook is to analyze trends within the entire data range and see what insights can be glean from the trends. "
   ]
  },
  {
   "cell_type": "code",
   "execution_count": 1,
   "metadata": {},
   "outputs": [],
   "source": [
    "import pandas as pd\n",
    "import seaborn as sns"
   ]
  },
  {
   "cell_type": "code",
   "execution_count": 2,
   "metadata": {},
   "outputs": [
    {
     "name": "stderr",
     "output_type": "stream",
     "text": [
      "/var/folders/r6/hkw27m2d5416xj4s3mzmxqym0000gn/T/ipykernel_67067/798432201.py:1: DtypeWarning: Columns (11) have mixed types. Specify dtype option on import or set low_memory=False.\n",
      "  df = pd.read_csv(\"datasets/UM _RACEDATA_RAW.csv\")\n"
     ]
    }
   ],
   "source": [
    "df = pd.read_csv(\"datasets/UM _RACEDATA_RAW.csv\") "
   ]
  },
  {
   "cell_type": "markdown",
   "metadata": {},
   "source": [
    "Calculating ```athlete_age```"
   ]
  },
  {
   "cell_type": "code",
   "execution_count": 3,
   "metadata": {},
   "outputs": [],
   "source": [
    "df['athlete_age'] = 2022 - df['Athlete year of birth']"
   ]
  },
  {
   "cell_type": "markdown",
   "metadata": {},
   "source": [
    "Only ```USA``` runners"
   ]
  },
  {
   "cell_type": "code",
   "execution_count": 4,
   "metadata": {},
   "outputs": [],
   "source": [
    "df = df[df['Athlete country'].isin(['USA'])]"
   ]
  },
  {
   "cell_type": "markdown",
   "metadata": {},
   "source": [
    "Removing \n",
    "* ```Athlete club```\n",
    "* ```Athlete country```\n",
    "* ```Athlete year of birth```\n",
    "* ```Athlete age category```\n",
    "* ```Event number of finishers```"
   ]
  },
  {
   "cell_type": "code",
   "execution_count": 5,
   "metadata": {},
   "outputs": [],
   "source": [
    "df = df.drop(['Athlete club', 'Athlete country', 'Athlete year of birth', 'Athlete age category', 'Event number of finishers'], axis = 1)"
   ]
  },
  {
   "cell_type": "markdown",
   "metadata": {},
   "source": [
    "Rename column headers"
   ]
  },
  {
   "cell_type": "code",
   "execution_count": 6,
   "metadata": {},
   "outputs": [],
   "source": [
    "df = df.rename(columns = { 'Year of event' : 'year',\n",
    "                           'Event dates' : 'race_day',\n",
    "                           'Event name' : 'race_name',\n",
    "                           'Event distance/length' : 'race_length',\n",
    "                           'Athlete performance' : 'athlete_performance',\n",
    "                           'Athlete gender' : 'athlete_gender',\n",
    "                           'Athlete average speed' : 'athlete_average_speed',\n",
    "                           'Athlete ID' : 'athlete_id'\n",
    "})"
   ]
  },
  {
   "cell_type": "markdown",
   "metadata": {},
   "source": [
    "Removing ```null``` values"
   ]
  },
  {
   "cell_type": "code",
   "execution_count": 7,
   "metadata": {},
   "outputs": [],
   "source": [
    "df = df.dropna()"
   ]
  },
  {
   "cell_type": "markdown",
   "metadata": {},
   "source": [
    "Drop ```duplicate``` rows"
   ]
  },
  {
   "cell_type": "code",
   "execution_count": 8,
   "metadata": {},
   "outputs": [],
   "source": [
    "df = df.drop_duplicates()"
   ]
  },
  {
   "cell_type": "markdown",
   "metadata": {},
   "source": [
    "fix types\n",
    "* ```athlete_age``` to ```int```\n",
    "* ```athlete_average_speed``` to ```float```"
   ]
  },
  {
   "cell_type": "code",
   "execution_count": 9,
   "metadata": {},
   "outputs": [],
   "source": [
    "df['athlete_age'] = df['athlete_age'].astype(int)"
   ]
  },
  {
   "cell_type": "markdown",
   "metadata": {},
   "source": [
    "Convert the ```'athlete_average_speed'``` column to numeric, coercing errors to ```NaN```"
   ]
  },
  {
   "cell_type": "code",
   "execution_count": 12,
   "metadata": {},
   "outputs": [],
   "source": [
    "df['athlete_average_speed'] = pd.to_numeric(df['athlete_average_speed'], errors='coerce')"
   ]
  },
  {
   "cell_type": "code",
   "execution_count": 13,
   "metadata": {},
   "outputs": [],
   "source": [
    "df = df.dropna()"
   ]
  },
  {
   "cell_type": "code",
   "execution_count": 14,
   "metadata": {},
   "outputs": [],
   "source": [
    "df['athlete_average_speed'] = df['athlete_average_speed'].astype(float)"
   ]
  },
  {
   "cell_type": "markdown",
   "metadata": {},
   "source": [
    "Determine how many different race lengths there are and then filter by the 4 most popular ultramarathon race distances"
   ]
  },
  {
   "cell_type": "code",
   "execution_count": 18,
   "metadata": {},
   "outputs": [
    {
     "name": "stdout",
     "output_type": "stream",
     "text": [
      "race_length\n",
      "50km             620836\n",
      "50mi             278362\n",
      "100mi            117543\n",
      "100km             57324\n",
      "24h               46990\n",
      "                  ...  \n",
      "1006km                1\n",
      "875km                 1\n",
      "1016km                1\n",
      "80km/3Etappen         1\n",
      "72.5km                1\n",
      "Name: count, Length: 971, dtype: int64\n"
     ]
    }
   ],
   "source": [
    "print(df['race_length'].value_counts(dropna=False))"
   ]
  },
  {
   "cell_type": "markdown",
   "metadata": {},
   "source": [
    "### NOTE: Break off and look at 24 hour races"
   ]
  },
  {
   "cell_type": "markdown",
   "metadata": {},
   "source": [
    "Focus only on the most popular races: \n",
    "* ```50km```\n",
    "* ```50mi```\n",
    "* ```100km```\n",
    "* ```100mi```\n"
   ]
  },
  {
   "cell_type": "code",
   "execution_count": 20,
   "metadata": {},
   "outputs": [],
   "source": [
    "df = df[df['race_length'].isin(['50km', '50mi', '100mi', '100km'])]"
   ]
  },
  {
   "cell_type": "markdown",
   "metadata": {},
   "source": [
    "Convert ```'race_length'``` into a ```category``` type"
   ]
  },
  {
   "cell_type": "code",
   "execution_count": 22,
   "metadata": {},
   "outputs": [],
   "source": [
    "df['race_length'] = df['race_length'].astype('category')"
   ]
  },
  {
   "cell_type": "markdown",
   "metadata": {},
   "source": [
    "Filter for ```Male``` & ```Female``` athletes"
   ]
  },
  {
   "cell_type": "code",
   "execution_count": 26,
   "metadata": {},
   "outputs": [],
   "source": [
    "df = df[df['athlete_gender'].isin(['M', 'F'])]"
   ]
  },
  {
   "cell_type": "markdown",
   "metadata": {},
   "source": [
    "Convert ```'athlete_gender'``` into a ```category``` type"
   ]
  },
  {
   "cell_type": "code",
   "execution_count": 27,
   "metadata": {},
   "outputs": [
    {
     "name": "stderr",
     "output_type": "stream",
     "text": [
      "/var/folders/r6/hkw27m2d5416xj4s3mzmxqym0000gn/T/ipykernel_67067/2808330520.py:1: SettingWithCopyWarning: \n",
      "A value is trying to be set on a copy of a slice from a DataFrame.\n",
      "Try using .loc[row_indexer,col_indexer] = value instead\n",
      "\n",
      "See the caveats in the documentation: https://pandas.pydata.org/pandas-docs/stable/user_guide/indexing.html#returning-a-view-versus-a-copy\n",
      "  df['athlete_gender'] = df['athlete_gender'].astype('category')\n"
     ]
    }
   ],
   "source": [
    "df['athlete_gender'] = df['athlete_gender'].astype('category')"
   ]
  },
  {
   "cell_type": "code",
   "execution_count": 29,
   "metadata": {},
   "outputs": [
    {
     "data": {
      "text/plain": [
       "year                        int64\n",
       "race_day                   object\n",
       "race_name                  object\n",
       "race_length              category\n",
       "athlete_performance        object\n",
       "athlete_gender           category\n",
       "athlete_average_speed     float64\n",
       "athlete_id                  int64\n",
       "athlete_age                 int64\n",
       "dtype: object"
      ]
     },
     "execution_count": 29,
     "metadata": {},
     "output_type": "execute_result"
    }
   ],
   "source": [
    "df.dtypes"
   ]
  },
  {
   "cell_type": "code",
   "execution_count": 30,
   "metadata": {},
   "outputs": [
    {
     "data": {
      "text/html": [
       "<div>\n",
       "<style scoped>\n",
       "    .dataframe tbody tr th:only-of-type {\n",
       "        vertical-align: middle;\n",
       "    }\n",
       "\n",
       "    .dataframe tbody tr th {\n",
       "        vertical-align: top;\n",
       "    }\n",
       "\n",
       "    .dataframe thead th {\n",
       "        text-align: right;\n",
       "    }\n",
       "</style>\n",
       "<table border=\"1\" class=\"dataframe\">\n",
       "  <thead>\n",
       "    <tr style=\"text-align: right;\">\n",
       "      <th></th>\n",
       "      <th>year</th>\n",
       "      <th>race_day</th>\n",
       "      <th>race_name</th>\n",
       "      <th>race_length</th>\n",
       "      <th>athlete_performance</th>\n",
       "      <th>athlete_gender</th>\n",
       "      <th>athlete_average_speed</th>\n",
       "      <th>athlete_id</th>\n",
       "      <th>athlete_age</th>\n",
       "    </tr>\n",
       "  </thead>\n",
       "  <tbody>\n",
       "    <tr>\n",
       "      <th>55</th>\n",
       "      <td>2018</td>\n",
       "      <td>06.01.2018</td>\n",
       "      <td>Yankee Springs 50 Mile Winter Challenge (USA)</td>\n",
       "      <td>50mi</td>\n",
       "      <td>9:53:05 h</td>\n",
       "      <td>M</td>\n",
       "      <td>8.141</td>\n",
       "      <td>55</td>\n",
       "      <td>39</td>\n",
       "    </tr>\n",
       "    <tr>\n",
       "      <th>58</th>\n",
       "      <td>2018</td>\n",
       "      <td>06.01.2018</td>\n",
       "      <td>Yankee Springs 50 Mile Winter Challenge (USA)</td>\n",
       "      <td>50mi</td>\n",
       "      <td>11:38:17 h</td>\n",
       "      <td>M</td>\n",
       "      <td>6.914</td>\n",
       "      <td>58</td>\n",
       "      <td>36</td>\n",
       "    </tr>\n",
       "    <tr>\n",
       "      <th>59</th>\n",
       "      <td>2018</td>\n",
       "      <td>06.01.2018</td>\n",
       "      <td>Yankee Springs 50 Mile Winter Challenge (USA)</td>\n",
       "      <td>50mi</td>\n",
       "      <td>11:56:35 h</td>\n",
       "      <td>M</td>\n",
       "      <td>6.738</td>\n",
       "      <td>59</td>\n",
       "      <td>34</td>\n",
       "    </tr>\n",
       "    <tr>\n",
       "      <th>60</th>\n",
       "      <td>2018</td>\n",
       "      <td>06.01.2018</td>\n",
       "      <td>Yankee Springs 50 Mile Winter Challenge (USA)</td>\n",
       "      <td>50mi</td>\n",
       "      <td>12:32:16 h</td>\n",
       "      <td>M</td>\n",
       "      <td>6.418</td>\n",
       "      <td>60</td>\n",
       "      <td>27</td>\n",
       "    </tr>\n",
       "    <tr>\n",
       "      <th>61</th>\n",
       "      <td>2018</td>\n",
       "      <td>06.01.2018</td>\n",
       "      <td>Yankee Springs 50 Mile Winter Challenge (USA)</td>\n",
       "      <td>50mi</td>\n",
       "      <td>12:39:36 h</td>\n",
       "      <td>M</td>\n",
       "      <td>6.356</td>\n",
       "      <td>61</td>\n",
       "      <td>43</td>\n",
       "    </tr>\n",
       "    <tr>\n",
       "      <th>62</th>\n",
       "      <td>2018</td>\n",
       "      <td>06.01.2018</td>\n",
       "      <td>Yankee Springs 50 Mile Winter Challenge (USA)</td>\n",
       "      <td>50mi</td>\n",
       "      <td>12:39:36 h</td>\n",
       "      <td>F</td>\n",
       "      <td>6.356</td>\n",
       "      <td>62</td>\n",
       "      <td>45</td>\n",
       "    </tr>\n",
       "    <tr>\n",
       "      <th>63</th>\n",
       "      <td>2018</td>\n",
       "      <td>06.01.2018</td>\n",
       "      <td>Yankee Springs 50 Mile Winter Challenge (USA)</td>\n",
       "      <td>50mi</td>\n",
       "      <td>13:24:05 h</td>\n",
       "      <td>F</td>\n",
       "      <td>6.004</td>\n",
       "      <td>63</td>\n",
       "      <td>32</td>\n",
       "    </tr>\n",
       "    <tr>\n",
       "      <th>64</th>\n",
       "      <td>2018</td>\n",
       "      <td>06.01.2018</td>\n",
       "      <td>Yankee Springs 50 km Winter Challenge (USA)</td>\n",
       "      <td>50km</td>\n",
       "      <td>5:09:40 h</td>\n",
       "      <td>F</td>\n",
       "      <td>9.688</td>\n",
       "      <td>64</td>\n",
       "      <td>31</td>\n",
       "    </tr>\n",
       "    <tr>\n",
       "      <th>65</th>\n",
       "      <td>2018</td>\n",
       "      <td>06.01.2018</td>\n",
       "      <td>Yankee Springs 50 km Winter Challenge (USA)</td>\n",
       "      <td>50km</td>\n",
       "      <td>6:00:47 h</td>\n",
       "      <td>M</td>\n",
       "      <td>8.315</td>\n",
       "      <td>65</td>\n",
       "      <td>46</td>\n",
       "    </tr>\n",
       "    <tr>\n",
       "      <th>66</th>\n",
       "      <td>2018</td>\n",
       "      <td>06.01.2018</td>\n",
       "      <td>Yankee Springs 50 km Winter Challenge (USA)</td>\n",
       "      <td>50km</td>\n",
       "      <td>6:02:02 h</td>\n",
       "      <td>F</td>\n",
       "      <td>8.287</td>\n",
       "      <td>66</td>\n",
       "      <td>30</td>\n",
       "    </tr>\n",
       "    <tr>\n",
       "      <th>67</th>\n",
       "      <td>2018</td>\n",
       "      <td>06.01.2018</td>\n",
       "      <td>Yankee Springs 50 km Winter Challenge (USA)</td>\n",
       "      <td>50km</td>\n",
       "      <td>6:02:44 h</td>\n",
       "      <td>M</td>\n",
       "      <td>8.271</td>\n",
       "      <td>67</td>\n",
       "      <td>35</td>\n",
       "    </tr>\n",
       "    <tr>\n",
       "      <th>68</th>\n",
       "      <td>2018</td>\n",
       "      <td>06.01.2018</td>\n",
       "      <td>Yankee Springs 50 km Winter Challenge (USA)</td>\n",
       "      <td>50km</td>\n",
       "      <td>6:10:30 h</td>\n",
       "      <td>M</td>\n",
       "      <td>8.097</td>\n",
       "      <td>68</td>\n",
       "      <td>58</td>\n",
       "    </tr>\n",
       "    <tr>\n",
       "      <th>69</th>\n",
       "      <td>2018</td>\n",
       "      <td>06.01.2018</td>\n",
       "      <td>Yankee Springs 50 km Winter Challenge (USA)</td>\n",
       "      <td>50km</td>\n",
       "      <td>6:10:52 h</td>\n",
       "      <td>M</td>\n",
       "      <td>8.089</td>\n",
       "      <td>69</td>\n",
       "      <td>57</td>\n",
       "    </tr>\n",
       "    <tr>\n",
       "      <th>70</th>\n",
       "      <td>2018</td>\n",
       "      <td>06.01.2018</td>\n",
       "      <td>Yankee Springs 50 km Winter Challenge (USA)</td>\n",
       "      <td>50km</td>\n",
       "      <td>6:11:43 h</td>\n",
       "      <td>M</td>\n",
       "      <td>8.071</td>\n",
       "      <td>70</td>\n",
       "      <td>36</td>\n",
       "    </tr>\n",
       "    <tr>\n",
       "      <th>71</th>\n",
       "      <td>2018</td>\n",
       "      <td>06.01.2018</td>\n",
       "      <td>Yankee Springs 50 km Winter Challenge (USA)</td>\n",
       "      <td>50km</td>\n",
       "      <td>6:13:27 h</td>\n",
       "      <td>M</td>\n",
       "      <td>8.033</td>\n",
       "      <td>71</td>\n",
       "      <td>46</td>\n",
       "    </tr>\n",
       "    <tr>\n",
       "      <th>72</th>\n",
       "      <td>2018</td>\n",
       "      <td>06.01.2018</td>\n",
       "      <td>Yankee Springs 50 km Winter Challenge (USA)</td>\n",
       "      <td>50km</td>\n",
       "      <td>6:27:42 h</td>\n",
       "      <td>M</td>\n",
       "      <td>7.738</td>\n",
       "      <td>72</td>\n",
       "      <td>52</td>\n",
       "    </tr>\n",
       "    <tr>\n",
       "      <th>73</th>\n",
       "      <td>2018</td>\n",
       "      <td>06.01.2018</td>\n",
       "      <td>Yankee Springs 50 km Winter Challenge (USA)</td>\n",
       "      <td>50km</td>\n",
       "      <td>6:28:09 h</td>\n",
       "      <td>M</td>\n",
       "      <td>7.729</td>\n",
       "      <td>73</td>\n",
       "      <td>44</td>\n",
       "    </tr>\n",
       "    <tr>\n",
       "      <th>74</th>\n",
       "      <td>2018</td>\n",
       "      <td>06.01.2018</td>\n",
       "      <td>Yankee Springs 50 km Winter Challenge (USA)</td>\n",
       "      <td>50km</td>\n",
       "      <td>6:29:36 h</td>\n",
       "      <td>M</td>\n",
       "      <td>7.700</td>\n",
       "      <td>74</td>\n",
       "      <td>38</td>\n",
       "    </tr>\n",
       "    <tr>\n",
       "      <th>75</th>\n",
       "      <td>2018</td>\n",
       "      <td>06.01.2018</td>\n",
       "      <td>Yankee Springs 50 km Winter Challenge (USA)</td>\n",
       "      <td>50km</td>\n",
       "      <td>6:32:04 h</td>\n",
       "      <td>M</td>\n",
       "      <td>7.652</td>\n",
       "      <td>75</td>\n",
       "      <td>26</td>\n",
       "    </tr>\n",
       "    <tr>\n",
       "      <th>76</th>\n",
       "      <td>2018</td>\n",
       "      <td>06.01.2018</td>\n",
       "      <td>Yankee Springs 50 km Winter Challenge (USA)</td>\n",
       "      <td>50km</td>\n",
       "      <td>6:36:39 h</td>\n",
       "      <td>M</td>\n",
       "      <td>7.563</td>\n",
       "      <td>76</td>\n",
       "      <td>54</td>\n",
       "    </tr>\n",
       "    <tr>\n",
       "      <th>77</th>\n",
       "      <td>2018</td>\n",
       "      <td>06.01.2018</td>\n",
       "      <td>Yankee Springs 50 km Winter Challenge (USA)</td>\n",
       "      <td>50km</td>\n",
       "      <td>6:36:46 h</td>\n",
       "      <td>M</td>\n",
       "      <td>7.561</td>\n",
       "      <td>77</td>\n",
       "      <td>44</td>\n",
       "    </tr>\n",
       "    <tr>\n",
       "      <th>78</th>\n",
       "      <td>2018</td>\n",
       "      <td>06.01.2018</td>\n",
       "      <td>Yankee Springs 50 km Winter Challenge (USA)</td>\n",
       "      <td>50km</td>\n",
       "      <td>6:40:07 h</td>\n",
       "      <td>M</td>\n",
       "      <td>7.498</td>\n",
       "      <td>78</td>\n",
       "      <td>44</td>\n",
       "    </tr>\n",
       "    <tr>\n",
       "      <th>79</th>\n",
       "      <td>2018</td>\n",
       "      <td>06.01.2018</td>\n",
       "      <td>Yankee Springs 50 km Winter Challenge (USA)</td>\n",
       "      <td>50km</td>\n",
       "      <td>6:52:26 h</td>\n",
       "      <td>M</td>\n",
       "      <td>7.274</td>\n",
       "      <td>79</td>\n",
       "      <td>44</td>\n",
       "    </tr>\n",
       "    <tr>\n",
       "      <th>81</th>\n",
       "      <td>2018</td>\n",
       "      <td>06.01.2018</td>\n",
       "      <td>Yankee Springs 50 km Winter Challenge (USA)</td>\n",
       "      <td>50km</td>\n",
       "      <td>7:13:15 h</td>\n",
       "      <td>M</td>\n",
       "      <td>6.924</td>\n",
       "      <td>81</td>\n",
       "      <td>50</td>\n",
       "    </tr>\n",
       "    <tr>\n",
       "      <th>82</th>\n",
       "      <td>2018</td>\n",
       "      <td>06.01.2018</td>\n",
       "      <td>Yankee Springs 50 km Winter Challenge (USA)</td>\n",
       "      <td>50km</td>\n",
       "      <td>7:34:06 h</td>\n",
       "      <td>M</td>\n",
       "      <td>6.606</td>\n",
       "      <td>82</td>\n",
       "      <td>62</td>\n",
       "    </tr>\n",
       "    <tr>\n",
       "      <th>83</th>\n",
       "      <td>2018</td>\n",
       "      <td>06.01.2018</td>\n",
       "      <td>Yankee Springs 50 km Winter Challenge (USA)</td>\n",
       "      <td>50km</td>\n",
       "      <td>7:35:28 h</td>\n",
       "      <td>F</td>\n",
       "      <td>6.587</td>\n",
       "      <td>83</td>\n",
       "      <td>46</td>\n",
       "    </tr>\n",
       "    <tr>\n",
       "      <th>84</th>\n",
       "      <td>2018</td>\n",
       "      <td>06.01.2018</td>\n",
       "      <td>Yankee Springs 50 km Winter Challenge (USA)</td>\n",
       "      <td>50km</td>\n",
       "      <td>7:37:30 h</td>\n",
       "      <td>M</td>\n",
       "      <td>6.557</td>\n",
       "      <td>84</td>\n",
       "      <td>47</td>\n",
       "    </tr>\n",
       "    <tr>\n",
       "      <th>85</th>\n",
       "      <td>2018</td>\n",
       "      <td>06.01.2018</td>\n",
       "      <td>Yankee Springs 50 km Winter Challenge (USA)</td>\n",
       "      <td>50km</td>\n",
       "      <td>7:41:52 h</td>\n",
       "      <td>M</td>\n",
       "      <td>6.495</td>\n",
       "      <td>85</td>\n",
       "      <td>54</td>\n",
       "    </tr>\n",
       "    <tr>\n",
       "      <th>86</th>\n",
       "      <td>2018</td>\n",
       "      <td>06.01.2018</td>\n",
       "      <td>Yankee Springs 50 km Winter Challenge (USA)</td>\n",
       "      <td>50km</td>\n",
       "      <td>7:44:52 h</td>\n",
       "      <td>M</td>\n",
       "      <td>6.453</td>\n",
       "      <td>86</td>\n",
       "      <td>44</td>\n",
       "    </tr>\n",
       "    <tr>\n",
       "      <th>87</th>\n",
       "      <td>2018</td>\n",
       "      <td>06.01.2018</td>\n",
       "      <td>Yankee Springs 50 km Winter Challenge (USA)</td>\n",
       "      <td>50km</td>\n",
       "      <td>7:52:05 h</td>\n",
       "      <td>F</td>\n",
       "      <td>6.355</td>\n",
       "      <td>87</td>\n",
       "      <td>50</td>\n",
       "    </tr>\n",
       "  </tbody>\n",
       "</table>\n",
       "</div>"
      ],
      "text/plain": [
       "    year    race_day                                      race_name  \\\n",
       "55  2018  06.01.2018  Yankee Springs 50 Mile Winter Challenge (USA)   \n",
       "58  2018  06.01.2018  Yankee Springs 50 Mile Winter Challenge (USA)   \n",
       "59  2018  06.01.2018  Yankee Springs 50 Mile Winter Challenge (USA)   \n",
       "60  2018  06.01.2018  Yankee Springs 50 Mile Winter Challenge (USA)   \n",
       "61  2018  06.01.2018  Yankee Springs 50 Mile Winter Challenge (USA)   \n",
       "62  2018  06.01.2018  Yankee Springs 50 Mile Winter Challenge (USA)   \n",
       "63  2018  06.01.2018  Yankee Springs 50 Mile Winter Challenge (USA)   \n",
       "64  2018  06.01.2018    Yankee Springs 50 km Winter Challenge (USA)   \n",
       "65  2018  06.01.2018    Yankee Springs 50 km Winter Challenge (USA)   \n",
       "66  2018  06.01.2018    Yankee Springs 50 km Winter Challenge (USA)   \n",
       "67  2018  06.01.2018    Yankee Springs 50 km Winter Challenge (USA)   \n",
       "68  2018  06.01.2018    Yankee Springs 50 km Winter Challenge (USA)   \n",
       "69  2018  06.01.2018    Yankee Springs 50 km Winter Challenge (USA)   \n",
       "70  2018  06.01.2018    Yankee Springs 50 km Winter Challenge (USA)   \n",
       "71  2018  06.01.2018    Yankee Springs 50 km Winter Challenge (USA)   \n",
       "72  2018  06.01.2018    Yankee Springs 50 km Winter Challenge (USA)   \n",
       "73  2018  06.01.2018    Yankee Springs 50 km Winter Challenge (USA)   \n",
       "74  2018  06.01.2018    Yankee Springs 50 km Winter Challenge (USA)   \n",
       "75  2018  06.01.2018    Yankee Springs 50 km Winter Challenge (USA)   \n",
       "76  2018  06.01.2018    Yankee Springs 50 km Winter Challenge (USA)   \n",
       "77  2018  06.01.2018    Yankee Springs 50 km Winter Challenge (USA)   \n",
       "78  2018  06.01.2018    Yankee Springs 50 km Winter Challenge (USA)   \n",
       "79  2018  06.01.2018    Yankee Springs 50 km Winter Challenge (USA)   \n",
       "81  2018  06.01.2018    Yankee Springs 50 km Winter Challenge (USA)   \n",
       "82  2018  06.01.2018    Yankee Springs 50 km Winter Challenge (USA)   \n",
       "83  2018  06.01.2018    Yankee Springs 50 km Winter Challenge (USA)   \n",
       "84  2018  06.01.2018    Yankee Springs 50 km Winter Challenge (USA)   \n",
       "85  2018  06.01.2018    Yankee Springs 50 km Winter Challenge (USA)   \n",
       "86  2018  06.01.2018    Yankee Springs 50 km Winter Challenge (USA)   \n",
       "87  2018  06.01.2018    Yankee Springs 50 km Winter Challenge (USA)   \n",
       "\n",
       "   race_length athlete_performance athlete_gender  athlete_average_speed  \\\n",
       "55        50mi           9:53:05 h              M                  8.141   \n",
       "58        50mi          11:38:17 h              M                  6.914   \n",
       "59        50mi          11:56:35 h              M                  6.738   \n",
       "60        50mi          12:32:16 h              M                  6.418   \n",
       "61        50mi          12:39:36 h              M                  6.356   \n",
       "62        50mi          12:39:36 h              F                  6.356   \n",
       "63        50mi          13:24:05 h              F                  6.004   \n",
       "64        50km           5:09:40 h              F                  9.688   \n",
       "65        50km           6:00:47 h              M                  8.315   \n",
       "66        50km           6:02:02 h              F                  8.287   \n",
       "67        50km           6:02:44 h              M                  8.271   \n",
       "68        50km           6:10:30 h              M                  8.097   \n",
       "69        50km           6:10:52 h              M                  8.089   \n",
       "70        50km           6:11:43 h              M                  8.071   \n",
       "71        50km           6:13:27 h              M                  8.033   \n",
       "72        50km           6:27:42 h              M                  7.738   \n",
       "73        50km           6:28:09 h              M                  7.729   \n",
       "74        50km           6:29:36 h              M                  7.700   \n",
       "75        50km           6:32:04 h              M                  7.652   \n",
       "76        50km           6:36:39 h              M                  7.563   \n",
       "77        50km           6:36:46 h              M                  7.561   \n",
       "78        50km           6:40:07 h              M                  7.498   \n",
       "79        50km           6:52:26 h              M                  7.274   \n",
       "81        50km           7:13:15 h              M                  6.924   \n",
       "82        50km           7:34:06 h              M                  6.606   \n",
       "83        50km           7:35:28 h              F                  6.587   \n",
       "84        50km           7:37:30 h              M                  6.557   \n",
       "85        50km           7:41:52 h              M                  6.495   \n",
       "86        50km           7:44:52 h              M                  6.453   \n",
       "87        50km           7:52:05 h              F                  6.355   \n",
       "\n",
       "    athlete_id  athlete_age  \n",
       "55          55           39  \n",
       "58          58           36  \n",
       "59          59           34  \n",
       "60          60           27  \n",
       "61          61           43  \n",
       "62          62           45  \n",
       "63          63           32  \n",
       "64          64           31  \n",
       "65          65           46  \n",
       "66          66           30  \n",
       "67          67           35  \n",
       "68          68           58  \n",
       "69          69           57  \n",
       "70          70           36  \n",
       "71          71           46  \n",
       "72          72           52  \n",
       "73          73           44  \n",
       "74          74           38  \n",
       "75          75           26  \n",
       "76          76           54  \n",
       "77          77           44  \n",
       "78          78           44  \n",
       "79          79           44  \n",
       "81          81           50  \n",
       "82          82           62  \n",
       "83          83           46  \n",
       "84          84           47  \n",
       "85          85           54  \n",
       "86          86           44  \n",
       "87          87           50  "
      ]
     },
     "execution_count": 30,
     "metadata": {},
     "output_type": "execute_result"
    }
   ],
   "source": [
    "df.head(30)"
   ]
  },
  {
   "cell_type": "markdown",
   "metadata": {},
   "source": [
    "Next steps:\n",
    "* Remove h from athlete_performance\n",
    "* standardize athlete_performace values\n",
    "* remove (USA) from race_name"
   ]
  }
 ],
 "metadata": {
  "kernelspec": {
   "display_name": "Python 3",
   "language": "python",
   "name": "python3"
  },
  "language_info": {
   "codemirror_mode": {
    "name": "ipython",
    "version": 3
   },
   "file_extension": ".py",
   "mimetype": "text/x-python",
   "name": "python",
   "nbconvert_exporter": "python",
   "pygments_lexer": "ipython3",
   "version": "3.11.9"
  }
 },
 "nbformat": 4,
 "nbformat_minor": 2
}
